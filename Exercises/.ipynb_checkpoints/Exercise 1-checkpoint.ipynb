{
 "cells": [
  {
   "cell_type": "code",
   "execution_count": 1,
   "metadata": {},
   "outputs": [],
   "source": [
    "import numpy as np\n",
    "import pandas as pd\n",
    "import os\n",
    "import matplotlib.pyplot as plt\n",
    "from sklearn.model_selection import train_test_split"
   ]
  },
  {
   "cell_type": "markdown",
   "metadata": {},
   "source": [
    "Exercise 1"
   ]
  },
  {
   "cell_type": "code",
   "execution_count": 10,
   "metadata": {},
   "outputs": [],
   "source": [
    "def R2(y_data, y_model):\n",
    "    return 1 - np.sum((y_data-y_model) ** 2) / np.sum((y_data - np.mean(y_data)) ** 2)\n",
    "\n",
    "def MSE(y_data, y_model):\n",
    "    n = np.size(y_model)\n",
    "    return np.sum((y_data - y_model) ** 2) /n"
   ]
  },
  {
   "cell_type": "code",
   "execution_count": 6,
   "metadata": {
    "scrolled": true
   },
   "outputs": [],
   "source": [
    "EOS = pd.read_csv(\"EoS.csv\")\n",
    "Density = EOS['Density']\n",
    "Energy = EOS['Energy']\n",
    "\n",
    "#Design Matrix\n",
    "X = np.zeros((90,4))\n",
    "X[:,0] = 1\n",
    "X[:,1] = Density\n",
    "X[:,2] = Density**2\n",
    "X[:,3] = Density**3"
   ]
  },
  {
   "cell_type": "code",
   "execution_count": 17,
   "metadata": {},
   "outputs": [
    {
     "name": "stdout",
     "output_type": "stream",
     "text": [
      "Trainin R2\n",
      "0.9999815037514271\n",
      "Training MSE\n",
      "8.684982167095594\n",
      "Test R2\n",
      "0.9999661836638777\n",
      "Test MSE\n",
      "11.969159495864623\n"
     ]
    }
   ],
   "source": [
    "#Split the Data to test and training data\n",
    "X_train, X_test, y_train, y_test = train_test_split(X, Energy, test_size=0.2)\n",
    "\n",
    "# Finding Beta\n",
    "beta = np.linalg.inv(X_train.T @ X_train) @X_train.T @ y_train\n",
    "ytilde = X_train @ beta\n",
    "\n",
    "print(\"Trainin R2\")\n",
    "print(R2(y_train,ytilde))\n",
    "print(\"Training MSE\")\n",
    "print(MSE(y_train,ytilde))\n",
    "\n",
    "ypredict = X_test @ beta\n",
    "print(\"Test R2\")\n",
    "print(R2(y_test,ypredict))\n",
    "print(\"Test MSE\")\n",
    "print(MSE(y_test,ypredict))"
   ]
  },
  {
   "cell_type": "markdown",
   "metadata": {},
   "source": [
    "Exercise 3"
   ]
  },
  {
   "cell_type": "code",
   "execution_count": 80,
   "metadata": {
    "scrolled": true
   },
   "outputs": [
    {
     "name": "stdout",
     "output_type": "stream",
     "text": [
      "Training R2\n",
      "0.9999999999654683\n",
      "Training MSE\n",
      "0.007823489852184872\n",
      "Test R2\n",
      "0.9999999999391939\n",
      "Test MSE\n",
      "0.01294364092803057\n"
     ]
    }
   ],
   "source": [
    "x = np.linspace(0,100,100)\n",
    "y = 2.0 + 5*x**2 + 0.1*np.random.randn(100)\n",
    "\n",
    "Xmodel = np.zeros((len(x),3))\n",
    "Xmodel[:,0] = 1.0\n",
    "Xmodel[:,1] = x\n",
    "Xmodel[:,2] = x**2\n",
    "\n",
    "x1_train, x1_test, y1_train, y1_test = train_test_split(Xmodel, y, test_size = 0.2)\n",
    "beta = np.linalg.inv(x1_train.T @ x1_train) @ x1_train.T @ y1_train\n",
    "ytilde = x1_train @ beta\n",
    "ypredict = x1_test @ beta\n",
    "\n",
    "#beta = np.linalg.inv(Xmodel.T @ Xmodel) @ Xmodel.T @ y\n",
    "#ytilde = Xmodel @ beta\n",
    "\n",
    "print(\"Training R2\")\n",
    "print(R2(y1_train, ytilde ))\n",
    "print(\"Training MSE\")\n",
    "print(MSE(y1_train, ytilde))\n",
    "\n",
    "print(\"Test R2\")\n",
    "print(R2(y1_test, ypredict ))\n",
    "print(\"Test MSE\")\n",
    "print(MSE(y1_test, ypredict))"
   ]
  },
  {
   "cell_type": "code",
   "execution_count": 81,
   "metadata": {
    "scrolled": true
   },
   "outputs": [
    {
     "data": {
      "image/png": "[encoded data removed]",
      "text/plain": [
       "<Figure size 432x288 with 1 Axes>"
      ]
     },
     "metadata": {
      "needs_background": "light"
     },
     "output_type": "display_data"
    }
   ],
   "source": [
    "# Generating plot\n",
    "fig, ax = plt.subplots()\n",
    "ax.plot(x,y,'.', label = 'dataset')\n",
    "xnew = list(range(0,20))\n",
    "ax.plot(xnew,ypredict,'.')\n",
    "#ax.plot(x1_train,ytilde,'+', label = 'test')\n",
    "plt.show()"
   ]
  },
  {
   "cell_type": "code",
   "execution_count": 78,
   "metadata": {},
   "outputs": [
    {
     "data": {
      "image/png": "[encoded data removed]",
      "text/plain": [
       "<Figure size 432x288 with 1 Axes>"
      ]
     },
     "metadata": {
      "needs_background": "light"
     },
     "output_type": "display_data"
    }
   ],
   "source": [
    "x = np.linspace(0,100,100)\n",
    "y = 2.0 * 5*x**2 + 0.1*np.random.randn(100)\n",
    "\n",
    "X_design = np.zeros((len(x),3))\n",
    "X_design[:,0] = 1.0\n",
    "X_design[:,1] = x\n",
    "X_design[:,2] = x**2\n",
    "\n",
    "beta = np.linalg.inv(X_design.T @ X_design) @ X_design.T @ y\n",
    "yguess = X_design @ beta\n",
    "\n",
    "fig,ax = plt.subplots()\n",
    "ax.set_xlabel('x')\n",
    "ax.set_ylabel('y')\n",
    "ax.plot(x,y,'r-',label='real')\n",
    "ax.plot(x,yguess,'.', label='fit')\n",
    "ax.legend()\n",
    "plt.show()"
   ]
  },
  {
   "cell_type": "code",
   "execution_count": null,
   "metadata": {},
   "outputs": [],
   "source": []
  }
 ],
 "metadata": {
  "kernelspec": {
   "display_name": "Python 3",
   "language": "python",
   "name": "python3"
  },
  "language_info": {
   "codemirror_mode": {
    "name": "ipython",
    "version": 3
   },
   "file_extension": ".py",
   "mimetype": "text/x-python",
   "name": "python",
   "nbconvert_exporter": "python",
   "pygments_lexer": "ipython3",
   "version": "3.8.5"
  }
 },
 "nbformat": 4,
 "nbformat_minor": 4
}
